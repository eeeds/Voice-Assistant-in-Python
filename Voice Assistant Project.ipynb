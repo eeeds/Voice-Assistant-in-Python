{
 "cells": [
  {
   "cell_type": "code",
   "execution_count": 1,
   "id": "0752d96b",
   "metadata": {},
   "outputs": [
    {
     "name": "stdout",
     "output_type": "stream",
     "text": [
      "Collecting pyttsx3\n",
      "  Downloading pyttsx3-2.90-py3-none-any.whl (39 kB)\n",
      "Requirement already satisfied: pywin32 in c:\\users\\encin\\anaconda3\\envs\\mopc\\lib\\site-packages (from pyttsx3) (300)\n",
      "Collecting comtypes\n",
      "  Downloading comtypes-1.1.10.tar.gz (145 kB)\n",
      "Collecting pypiwin32\n",
      "  Downloading pypiwin32-223-py3-none-any.whl (1.7 kB)\n",
      "Building wheels for collected packages: comtypes\n",
      "  Building wheel for comtypes (setup.py): started\n",
      "  Building wheel for comtypes (setup.py): finished with status 'done'\n",
      "  Created wheel for comtypes: filename=comtypes-1.1.10-py3-none-any.whl size=164919 sha256=fd0ac46d93a8dfc48cc64ba984701c9f64bf464d4a26ef290c0d82e3bbbc59ef\n",
      "  Stored in directory: c:\\users\\encin\\appdata\\local\\pip\\cache\\wheels\\ac\\d9\\86\\f150377841ceef17cc9831ead2989c241b39e973269b347653\n",
      "Successfully built comtypes\n",
      "Installing collected packages: pypiwin32, comtypes, pyttsx3\n",
      "Successfully installed comtypes-1.1.10 pypiwin32-223 pyttsx3-2.90\n"
     ]
    }
   ],
   "source": [
    "!pip install pyttsx3"
   ]
  },
  {
   "cell_type": "code",
   "execution_count": 5,
   "id": "d810e799",
   "metadata": {},
   "outputs": [
    {
     "name": "stdout",
     "output_type": "stream",
     "text": [
      "Collecting speech-recognition-python\n",
      "  Downloading speech_recognition_python-3.9.9.tar.gz (2.1 MB)\n",
      "Requirement already satisfied: numpy in c:\\users\\encin\\appdata\\roaming\\python\\python37\\site-packages (from speech-recognition-python) (1.20.3)\n",
      "Requirement already satisfied: nltk in c:\\users\\encin\\anaconda3\\envs\\mopc\\lib\\site-packages (from speech-recognition-python) (3.6.2)\n",
      "Collecting google-trans-new\n",
      "  Downloading google_trans_new-1.1.9-py3-none-any.whl (9.2 kB)\n",
      "Collecting pocketsphinx\n",
      "  Downloading pocketsphinx-0.1.15.tar.gz (29.1 MB)"
     ]
    },
    {
     "name": "stderr",
     "output_type": "stream",
     "text": [
      "  ERROR: Command errored out with exit status 1:\n",
      "   command: 'C:\\Users\\Encin\\Anaconda3\\envs\\mopc\\python.exe' -u -c 'import sys, setuptools, tokenize; sys.argv[0] = '\"'\"'C:\\\\Users\\\\Encin\\\\AppData\\\\Local\\\\Temp\\\\pip-install-k7tkizbq\\\\pocketsphinx_ccafc0a236a04a49ab6a33228c430a0c\\\\setup.py'\"'\"'; __file__='\"'\"'C:\\\\Users\\\\Encin\\\\AppData\\\\Local\\\\Temp\\\\pip-install-k7tkizbq\\\\pocketsphinx_ccafc0a236a04a49ab6a33228c430a0c\\\\setup.py'\"'\"';f=getattr(tokenize, '\"'\"'open'\"'\"', open)(__file__);code=f.read().replace('\"'\"'\\r\\n'\"'\"', '\"'\"'\\n'\"'\"');f.close();exec(compile(code, __file__, '\"'\"'exec'\"'\"'))' bdist_wheel -d 'C:\\Users\\Encin\\AppData\\Local\\Temp\\pip-wheel-l9__ccjf'\n",
      "       cwd: C:\\Users\\Encin\\AppData\\Local\\Temp\\pip-install-k7tkizbq\\pocketsphinx_ccafc0a236a04a49ab6a33228c430a0c\\\n",
      "  Complete output (6 lines):\n",
      "  running bdist_wheel\n",
      "  running build_ext\n",
      "  building 'sphinxbase._sphinxbase' extension\n",
      "  swigging deps/sphinxbase/swig/sphinxbase.i to deps/sphinxbase/swig/sphinxbase_wrap.c\n",
      "  swig.exe -python -modern -threads -Ideps/sphinxbase/include -Ideps/sphinxbase/include/sphinxbase -Ideps/sphinxbase/include/win32 -Ideps/sphinxbase/swig -outdir sphinxbase -o deps/sphinxbase/swig/sphinxbase_wrap.c deps/sphinxbase/swig/sphinxbase.i\n",
      "  error: command 'swig.exe' failed: No such file or directory\n",
      "  ----------------------------------------\n",
      "  ERROR: Failed building wheel for pocketsphinx\n",
      "    ERROR: Command errored out with exit status 1:\n",
      "     command: 'C:\\Users\\Encin\\Anaconda3\\envs\\mopc\\python.exe' -u -c 'import sys, setuptools, tokenize; sys.argv[0] = '\"'\"'C:\\\\Users\\\\Encin\\\\AppData\\\\Local\\\\Temp\\\\pip-install-k7tkizbq\\\\pocketsphinx_ccafc0a236a04a49ab6a33228c430a0c\\\\setup.py'\"'\"'; __file__='\"'\"'C:\\\\Users\\\\Encin\\\\AppData\\\\Local\\\\Temp\\\\pip-install-k7tkizbq\\\\pocketsphinx_ccafc0a236a04a49ab6a33228c430a0c\\\\setup.py'\"'\"';f=getattr(tokenize, '\"'\"'open'\"'\"', open)(__file__);code=f.read().replace('\"'\"'\\r\\n'\"'\"', '\"'\"'\\n'\"'\"');f.close();exec(compile(code, __file__, '\"'\"'exec'\"'\"'))' install --record 'C:\\Users\\Encin\\AppData\\Local\\Temp\\pip-record-hnhtuwax\\install-record.txt' --single-version-externally-managed --compile --install-headers 'C:\\Users\\Encin\\Anaconda3\\envs\\mopc\\Include\\pocketsphinx'\n",
      "         cwd: C:\\Users\\Encin\\AppData\\Local\\Temp\\pip-install-k7tkizbq\\pocketsphinx_ccafc0a236a04a49ab6a33228c430a0c\\\n",
      "    Complete output (6 lines):\n",
      "    running install\n",
      "    running build_ext\n",
      "    building 'sphinxbase._sphinxbase' extension\n",
      "    swigging deps/sphinxbase/swig/sphinxbase.i to deps/sphinxbase/swig/sphinxbase_wrap.c\n",
      "    swig.exe -python -modern -threads -Ideps/sphinxbase/include -Ideps/sphinxbase/include/sphinxbase -Ideps/sphinxbase/include/win32 -Ideps/sphinxbase/swig -outdir sphinxbase -o deps/sphinxbase/swig/sphinxbase_wrap.c deps/sphinxbase/swig/sphinxbase.i\n",
      "    error: command 'swig.exe' failed: No such file or directory\n",
      "    ----------------------------------------\n",
      "ERROR: Command errored out with exit status 1: 'C:\\Users\\Encin\\Anaconda3\\envs\\mopc\\python.exe' -u -c 'import sys, setuptools, tokenize; sys.argv[0] = '\"'\"'C:\\\\Users\\\\Encin\\\\AppData\\\\Local\\\\Temp\\\\pip-install-k7tkizbq\\\\pocketsphinx_ccafc0a236a04a49ab6a33228c430a0c\\\\setup.py'\"'\"'; __file__='\"'\"'C:\\\\Users\\\\Encin\\\\AppData\\\\Local\\\\Temp\\\\pip-install-k7tkizbq\\\\pocketsphinx_ccafc0a236a04a49ab6a33228c430a0c\\\\setup.py'\"'\"';f=getattr(tokenize, '\"'\"'open'\"'\"', open)(__file__);code=f.read().replace('\"'\"'\\r\\n'\"'\"', '\"'\"'\\n'\"'\"');f.close();exec(compile(code, __file__, '\"'\"'exec'\"'\"'))' install --record 'C:\\Users\\Encin\\AppData\\Local\\Temp\\pip-record-hnhtuwax\\install-record.txt' --single-version-externally-managed --compile --install-headers 'C:\\Users\\Encin\\Anaconda3\\envs\\mopc\\Include\\pocketsphinx' Check the logs for full command output.\n"
     ]
    },
    {
     "name": "stdout",
     "output_type": "stream",
     "text": [
      "\n",
      "Requirement already satisfied: joblib in c:\\users\\encin\\anaconda3\\envs\\mopc\\lib\\site-packages (from nltk->speech-recognition-python) (1.0.1)\n",
      "Requirement already satisfied: tqdm in c:\\users\\encin\\anaconda3\\envs\\mopc\\lib\\site-packages (from nltk->speech-recognition-python) (4.61.1)\n",
      "Requirement already satisfied: regex in c:\\users\\encin\\anaconda3\\envs\\mopc\\lib\\site-packages (from nltk->speech-recognition-python) (2021.8.3)\n",
      "Requirement already satisfied: click in c:\\users\\encin\\anaconda3\\envs\\mopc\\lib\\site-packages (from nltk->speech-recognition-python) (7.1.2)\n",
      "Building wheels for collected packages: speech-recognition-python, pocketsphinx\n",
      "  Building wheel for speech-recognition-python (setup.py): started\n",
      "  Building wheel for speech-recognition-python (setup.py): finished with status 'done'\n",
      "  Created wheel for speech-recognition-python: filename=speech_recognition_python-3.9.9-py3-none-any.whl size=22067 sha256=b9349e1c1e58df7f6d4633ad7a783c6bc1db399d1740484c9d555dbea48439fd\n",
      "  Stored in directory: c:\\users\\encin\\appdata\\local\\pip\\cache\\wheels\\ef\\6b\\b5\\d889177c277f2913e083c5c3167c81d471042459935c845917\n",
      "  Building wheel for pocketsphinx (setup.py): started\n",
      "  Building wheel for pocketsphinx (setup.py): finished with status 'error'\n",
      "  Running setup.py clean for pocketsphinx\n",
      "Successfully built speech-recognition-python\n",
      "Failed to build pocketsphinx\n",
      "Installing collected packages: pocketsphinx, google-trans-new, speech-recognition-python\n",
      "    Running setup.py install for pocketsphinx: started\n",
      "    Running setup.py install for pocketsphinx: finished with status 'error'\n"
     ]
    }
   ],
   "source": [
    "!pip install speech-recognition-python"
   ]
  },
  {
   "cell_type": "code",
   "execution_count": 6,
   "id": "82485ee9",
   "metadata": {},
   "outputs": [
    {
     "name": "stdout",
     "output_type": "stream",
     "text": [
      "Collecting pywhatkit\n",
      "  Downloading pywhatkit-5.1-py3-none-any.whl (12 kB)\n",
      "Requirement already satisfied: requests in c:\\users\\encin\\anaconda3\\envs\\mopc\\lib\\site-packages (from pywhatkit) (2.25.1)\n",
      "Requirement already satisfied: Pillow in c:\\users\\encin\\appdata\\roaming\\python\\python37\\site-packages (from pywhatkit) (8.2.0)\n",
      "Collecting wikipedia\n",
      "  Downloading wikipedia-1.4.0.tar.gz (27 kB)\n",
      "Collecting pyautogui\n",
      "  Downloading PyAutoGUI-0.9.53.tar.gz (59 kB)\n",
      "Collecting pymsgbox\n",
      "  Downloading PyMsgBox-1.0.9.tar.gz (18 kB)\n",
      "  Installing build dependencies: started\n",
      "  Installing build dependencies: finished with status 'done'\n",
      "  Getting requirements to build wheel: started\n",
      "  Getting requirements to build wheel: finished with status 'done'\n",
      "    Preparing wheel metadata: started\n",
      "    Preparing wheel metadata: finished with status 'done'\n",
      "Collecting PyTweening>=1.0.1\n",
      "  Downloading pytweening-1.0.4.tar.gz (14 kB)\n",
      "Collecting pyscreeze>=0.1.21\n",
      "  Downloading PyScreeze-0.1.28.tar.gz (25 kB)\n",
      "  Installing build dependencies: started\n",
      "  Installing build dependencies: finished with status 'done'\n",
      "  Getting requirements to build wheel: started\n",
      "  Getting requirements to build wheel: finished with status 'done'\n",
      "    Preparing wheel metadata: started\n",
      "    Preparing wheel metadata: finished with status 'done'\n",
      "Collecting pygetwindow>=0.0.5\n",
      "  Downloading PyGetWindow-0.0.9.tar.gz (9.7 kB)\n",
      "Collecting mouseinfo\n",
      "  Downloading MouseInfo-0.1.3.tar.gz (10 kB)\n",
      "Collecting pyrect\n",
      "  Downloading PyRect-0.1.4.tar.gz (15 kB)\n",
      "Collecting pyperclip\n",
      "  Downloading pyperclip-1.8.2.tar.gz (20 kB)\n",
      "Requirement already satisfied: chardet<5,>=3.0.2 in c:\\users\\encin\\anaconda3\\envs\\mopc\\lib\\site-packages (from requests->pywhatkit) (4.0.0)\n",
      "Requirement already satisfied: urllib3<1.27,>=1.21.1 in c:\\users\\encin\\anaconda3\\envs\\mopc\\lib\\site-packages (from requests->pywhatkit) (1.26.4)\n",
      "Requirement already satisfied: certifi>=2017.4.17 in c:\\users\\encin\\anaconda3\\envs\\mopc\\lib\\site-packages (from requests->pywhatkit) (2021.5.30)\n",
      "Requirement already satisfied: idna<3,>=2.5 in c:\\users\\encin\\anaconda3\\envs\\mopc\\lib\\site-packages (from requests->pywhatkit) (2.10)\n",
      "Requirement already satisfied: beautifulsoup4 in c:\\users\\encin\\anaconda3\\envs\\mopc\\lib\\site-packages (from wikipedia->pywhatkit) (4.9.3)\n",
      "Requirement already satisfied: soupsieve>1.2 in c:\\users\\encin\\anaconda3\\envs\\mopc\\lib\\site-packages (from beautifulsoup4->wikipedia->pywhatkit) (2.0.1)\n",
      "Building wheels for collected packages: pyautogui, pygetwindow, pyscreeze, PyTweening, mouseinfo, pymsgbox, pyperclip, pyrect, wikipedia\n",
      "  Building wheel for pyautogui (setup.py): started\n",
      "  Building wheel for pyautogui (setup.py): finished with status 'done'\n",
      "  Created wheel for pyautogui: filename=PyAutoGUI-0.9.53-py3-none-any.whl size=36583 sha256=c1e0b39efe8b45ba29cc823e984b56c26b145bb5e711f0d8052b4b98b876e5d6\n",
      "  Stored in directory: c:\\users\\encin\\appdata\\local\\pip\\cache\\wheels\\23\\db\\81\\a14b5eca81ccb97c15e5bbea8d5394b8cbf6b36451d89dd648\n",
      "  Building wheel for pygetwindow (setup.py): started\n",
      "  Building wheel for pygetwindow (setup.py): finished with status 'done'\n",
      "  Created wheel for pygetwindow: filename=PyGetWindow-0.0.9-py3-none-any.whl size=11078 sha256=a38d25f3ad9b2ae3192476a07eeb451e4a9f209bae8383c7ea13b8e5f043e4c1\n",
      "  Stored in directory: c:\\users\\encin\\appdata\\local\\pip\\cache\\wheels\\91\\7e\\35\\62d9062a06cfc46fea39e26860253da36f258b3f3fd96c91c3\n",
      "  Building wheel for pyscreeze (PEP 517): started\n",
      "  Building wheel for pyscreeze (PEP 517): finished with status 'done'\n",
      "  Created wheel for pyscreeze: filename=PyScreeze-0.1.28-py3-none-any.whl size=13023 sha256=6f2826c4dbd13cf6ce5d1af3babd0c38c5f6d0877db3cf32c573c7960eea66b9\n",
      "  Stored in directory: c:\\users\\encin\\appdata\\local\\pip\\cache\\wheels\\09\\85\\24\\8db624ac125598fc40c4fbbff9d3b42e1c464d168567f72a42\n",
      "  Building wheel for PyTweening (setup.py): started\n",
      "  Building wheel for PyTweening (setup.py): finished with status 'done'\n",
      "  Created wheel for PyTweening: filename=pytweening-1.0.4-py3-none-any.whl size=5825 sha256=70ce5d819905951707887a1253c6b11cf5482c9d64b8dd852744a53811d88c07\n",
      "  Stored in directory: c:\\users\\encin\\appdata\\local\\pip\\cache\\wheels\\13\\0b\\3b\\73efc9b0421547a03ed3208c92a88ccddae2ce853c1e6da7e9\n",
      "  Building wheel for mouseinfo (setup.py): started\n",
      "  Building wheel for mouseinfo (setup.py): finished with status 'done'\n",
      "  Created wheel for mouseinfo: filename=MouseInfo-0.1.3-py3-none-any.whl size=10905 sha256=ffa4d2f577ddbe5072f368704501dbcc49b9168a5d2fcf9e953e2ca426868dc5\n",
      "  Stored in directory: c:\\users\\encin\\appdata\\local\\pip\\cache\\wheels\\43\\9a\\7f\\373736bf37b94b358be41fb2f317a0f9940a1dcb7a733e1707\n",
      "  Building wheel for pymsgbox (PEP 517): started\n",
      "  Building wheel for pymsgbox (PEP 517): finished with status 'done'\n",
      "  Created wheel for pymsgbox: filename=PyMsgBox-1.0.9-py3-none-any.whl size=7420 sha256=e8fc1f7a22634adb3011e514ba2c189e40a26c342cce45c2fc7c56594688597d\n",
      "  Stored in directory: c:\\users\\encin\\appdata\\local\\pip\\cache\\wheels\\39\\eb\\0e\\1587e06da34adf675ad26a113da25df542991f5095303374ef\n",
      "  Building wheel for pyperclip (setup.py): started\n",
      "  Building wheel for pyperclip (setup.py): finished with status 'done'\n",
      "  Created wheel for pyperclip: filename=pyperclip-1.8.2-py3-none-any.whl size=11107 sha256=7e2809b26647da425830b0d74c8f20f0dbd340d3c086fbad26795a32feb628fa\n",
      "  Stored in directory: c:\\users\\encin\\appdata\\local\\pip\\cache\\wheels\\9f\\18\\84\\8f69f8b08169c7bae2dde6bd7daf0c19fca8c8e500ee620a28\n",
      "  Building wheel for pyrect (setup.py): started\n",
      "  Building wheel for pyrect (setup.py): finished with status 'done'\n",
      "  Created wheel for pyrect: filename=PyRect-0.1.4-py2.py3-none-any.whl size=9547 sha256=b3520a78de3030cc064724beacae343af809987edb6fe0c0958c9ab75211388d\n",
      "  Stored in directory: c:\\users\\encin\\appdata\\local\\pip\\cache\\wheels\\97\\5f\\8e\\6f26a5b00d46679ee2391a3542334274ce8bdaf7c6b0f3504c\n",
      "  Building wheel for wikipedia (setup.py): started\n",
      "  Building wheel for wikipedia (setup.py): finished with status 'done'\n",
      "  Created wheel for wikipedia: filename=wikipedia-1.4.0-py3-none-any.whl size=11686 sha256=a5d1ca7a9dc870ccb4c980d40a581aaa5777237842c1390d6813e03077330cf8\n",
      "  Stored in directory: c:\\users\\encin\\appdata\\local\\pip\\cache\\wheels\\15\\93\\6d\\5b2c68b8a64c7a7a04947b4ed6d89fb557dcc6bc27d1d7f3ba\n",
      "Successfully built pyautogui pygetwindow pyscreeze PyTweening mouseinfo pymsgbox pyperclip pyrect wikipedia\n",
      "Installing collected packages: pyrect, pyperclip, PyTweening, pyscreeze, pymsgbox, pygetwindow, mouseinfo, wikipedia, pyautogui, pywhatkit\n",
      "Successfully installed PyTweening-1.0.4 mouseinfo-0.1.3 pyautogui-0.9.53 pygetwindow-0.0.9 pymsgbox-1.0.9 pyperclip-1.8.2 pyrect-0.1.4 pyscreeze-0.1.28 pywhatkit-5.1 wikipedia-1.4.0\n"
     ]
    }
   ],
   "source": [
    "!pip install pywhatkit"
   ]
  },
  {
   "cell_type": "code",
   "execution_count": 7,
   "id": "1f6cfa8a",
   "metadata": {},
   "outputs": [
    {
     "name": "stdout",
     "output_type": "stream",
     "text": [
      "Collecting yfinance\n",
      "  Downloading yfinance-0.1.63.tar.gz (26 kB)\n",
      "Requirement already satisfied: pandas>=0.24 in c:\\users\\encin\\anaconda3\\envs\\mopc\\lib\\site-packages (from yfinance) (1.2.3)\n",
      "Requirement already satisfied: numpy>=1.15 in c:\\users\\encin\\appdata\\roaming\\python\\python37\\site-packages (from yfinance) (1.20.3)\n",
      "Requirement already satisfied: requests>=2.20 in c:\\users\\encin\\anaconda3\\envs\\mopc\\lib\\site-packages (from yfinance) (2.25.1)\n",
      "Collecting multitasking>=0.0.7\n",
      "  Downloading multitasking-0.0.9.tar.gz (8.1 kB)\n",
      "Requirement already satisfied: lxml>=4.5.1 in c:\\users\\encin\\anaconda3\\envs\\mopc\\lib\\site-packages (from yfinance) (4.6.3)\n",
      "Requirement already satisfied: python-dateutil>=2.7.3 in c:\\users\\encin\\appdata\\roaming\\python\\python37\\site-packages (from pandas>=0.24->yfinance) (2.8.1)\n",
      "Requirement already satisfied: pytz>=2017.3 in c:\\users\\encin\\anaconda3\\envs\\mopc\\lib\\site-packages (from pandas>=0.24->yfinance) (2021.1)\n",
      "Requirement already satisfied: six>=1.5 in c:\\users\\encin\\appdata\\roaming\\python\\python37\\site-packages (from python-dateutil>=2.7.3->pandas>=0.24->yfinance) (1.16.0)\n",
      "Requirement already satisfied: certifi>=2017.4.17 in c:\\users\\encin\\anaconda3\\envs\\mopc\\lib\\site-packages (from requests>=2.20->yfinance) (2021.5.30)\n",
      "Requirement already satisfied: urllib3<1.27,>=1.21.1 in c:\\users\\encin\\anaconda3\\envs\\mopc\\lib\\site-packages (from requests>=2.20->yfinance) (1.26.4)\n",
      "Requirement already satisfied: chardet<5,>=3.0.2 in c:\\users\\encin\\anaconda3\\envs\\mopc\\lib\\site-packages (from requests>=2.20->yfinance) (4.0.0)\n",
      "Requirement already satisfied: idna<3,>=2.5 in c:\\users\\encin\\anaconda3\\envs\\mopc\\lib\\site-packages (from requests>=2.20->yfinance) (2.10)\n",
      "Building wheels for collected packages: yfinance, multitasking\n",
      "  Building wheel for yfinance (setup.py): started\n",
      "  Building wheel for yfinance (setup.py): finished with status 'done'\n",
      "  Created wheel for yfinance: filename=yfinance-0.1.63-py2.py3-none-any.whl size=23909 sha256=2d81b6fc6c3fea2d8e5e09ca13df84dbb3783121d30925ed1ae0ab05ce8ca630\n",
      "  Stored in directory: c:\\users\\encin\\appdata\\local\\pip\\cache\\wheels\\fe\\87\\8b\\7ec24486e001d3926537f5f7801f57a74d181be25b11157983\n",
      "  Building wheel for multitasking (setup.py): started\n",
      "  Building wheel for multitasking (setup.py): finished with status 'done'\n",
      "  Created wheel for multitasking: filename=multitasking-0.0.9-py3-none-any.whl size=8368 sha256=4e4ca6f3dff338e5d8b7e126c81a2fc0eb61d0343e7b43e57d5fa049e36abed1\n",
      "  Stored in directory: c:\\users\\encin\\appdata\\local\\pip\\cache\\wheels\\ae\\25\\47\\4d68431a7ec1b6c4b5233365934b74c1d4e665bf5f968d363a\n",
      "Successfully built yfinance multitasking\n",
      "Installing collected packages: multitasking, yfinance\n",
      "Successfully installed multitasking-0.0.9 yfinance-0.1.63\n"
     ]
    }
   ],
   "source": [
    "!pip install yfinance"
   ]
  },
  {
   "cell_type": "code",
   "execution_count": 8,
   "id": "01eb63b1",
   "metadata": {},
   "outputs": [
    {
     "name": "stdout",
     "output_type": "stream",
     "text": [
      "Collecting pyjokes\n",
      "  Downloading pyjokes-0.6.0-py2.py3-none-any.whl (26 kB)\n",
      "Installing collected packages: pyjokes\n",
      "Successfully installed pyjokes-0.6.0\n"
     ]
    }
   ],
   "source": [
    "!pip install pyjokes"
   ]
  },
  {
   "cell_type": "code",
   "execution_count": 1,
   "id": "6ac80f6b",
   "metadata": {},
   "outputs": [],
   "source": [
    "#import libraries\n",
    "import pyttsx3\n",
    "import speech_recognition as sr\n",
    "import webbrowser\n",
    "import datetime\n",
    "import pywhatkit\n",
    "import os \n",
    "import yfinance as yf\n",
    "import pyjokes\n"
   ]
  },
  {
   "cell_type": "code",
   "execution_count": 2,
   "id": "86717359",
   "metadata": {},
   "outputs": [],
   "source": [
    "#Transform audio into text\n",
    "#Listen to our microphone and return athe audio as text using google\n",
    "def transform():\n",
    "    r = sr.Recognizer()\n",
    "    with sr.Microphone() as source:\n",
    "        r.pause_threshold = 0.8\n",
    "        said = r.listen(source)\n",
    "        try:\n",
    "            print(\"I am listening\")\n",
    "            q = r.recognize_google(said, language = \"en\")\n",
    "            return q\n",
    "        except sr.UnknownValueError:\n",
    "            print(\"Sorry. I did not understand\")\n",
    "            return \"I am waiting...\"\n",
    "        except sr.RequestError:\n",
    "            print('Sorry. The service is down')\n",
    "            return \"I am waiting...\"\n",
    "        except:\n",
    "            return \"I am waiting...\""
   ]
  },
  {
   "cell_type": "code",
   "execution_count": 3,
   "id": "f6c372e0",
   "metadata": {},
   "outputs": [
    {
     "name": "stdout",
     "output_type": "stream",
     "text": [
      "I am listening\n",
      "Sorry. I did not understand\n"
     ]
    },
    {
     "data": {
      "text/plain": [
       "'I am waiting...'"
      ]
     },
     "execution_count": 3,
     "metadata": {},
     "output_type": "execute_result"
    }
   ],
   "source": [
    "transform()"
   ]
  },
  {
   "cell_type": "code",
   "execution_count": 4,
   "id": "dda8d401",
   "metadata": {},
   "outputs": [],
   "source": [
    "def speaking(message):\n",
    "    engine = pyttsx3.init()\n",
    "    engine.say(message)\n",
    "    engine.runAndWait()"
   ]
  },
  {
   "cell_type": "code",
   "execution_count": 5,
   "id": "a22a5fa0",
   "metadata": {},
   "outputs": [],
   "source": [
    "#speaking \"Hello baby\"\n",
    "speaking('Hello baby')"
   ]
  },
  {
   "cell_type": "code",
   "execution_count": 6,
   "id": "757af4ab",
   "metadata": {},
   "outputs": [
    {
     "name": "stdout",
     "output_type": "stream",
     "text": [
      "<Voice id=HKEY_LOCAL_MACHINE\\SOFTWARE\\Microsoft\\Speech\\Voices\\Tokens\\TTS_MS_EN-US_DAVID_11.0\n",
      "          name=Microsoft David Desktop - English (United States)\n",
      "          languages=[]\n",
      "          gender=None\n",
      "          age=None>\n",
      "<Voice id=HKEY_LOCAL_MACHINE\\SOFTWARE\\Microsoft\\Speech\\Voices\\Tokens\\TTS_MS_EN-US_ZIRA_11.0\n",
      "          name=Microsoft Zira Desktop - English (United States)\n",
      "          languages=[]\n",
      "          gender=None\n",
      "          age=None>\n"
     ]
    }
   ],
   "source": [
    "#Checking installed languages\n",
    "engine = pyttsx3.init()\n",
    "for voice in engine.getProperty('voices'):\n",
    "    print(voice)"
   ]
  },
  {
   "cell_type": "code",
   "execution_count": 7,
   "id": "3a170f16",
   "metadata": {},
   "outputs": [],
   "source": [
    "#Set Zira voice\n",
    "id = 'HKEY_LOCAL_MACHINE\\SOFTWARE\\Microsoft\\Speech\\Voices\\Tokens\\TTS_MS_EN-US_ZIRA_11.0'"
   ]
  },
  {
   "cell_type": "code",
   "execution_count": 8,
   "id": "46d12166",
   "metadata": {},
   "outputs": [],
   "source": [
    "engine.setProperty('voice', id)\n",
    "engine.say('Hello girl')\n",
    "engine.runAndWait()"
   ]
  },
  {
   "cell_type": "code",
   "execution_count": 9,
   "id": "37a7889b",
   "metadata": {},
   "outputs": [],
   "source": [
    "#Return the weekday name\n",
    "def query_day():\n",
    "    day = datetime.date.today()\n",
    "    print(day)\n",
    "    weekday = day.weekday()\n",
    "    print(weekday)\n",
    "    mapping = {\n",
    "        0:'Monday',\n",
    "        1:'Tuesday',\n",
    "        2:'Wednesday',\n",
    "        3:'Thursday',\n",
    "        4:'Friday',\n",
    "        5:'Saturday',\n",
    "        6:'Sunday'\n",
    "    }\n",
    "    try:\n",
    "        speaking(f'Today is {mapping[weekday]}')\n",
    "    except:\n",
    "        pass\n",
    "    "
   ]
  },
  {
   "cell_type": "code",
   "execution_count": 10,
   "id": "097ede93",
   "metadata": {},
   "outputs": [
    {
     "name": "stdout",
     "output_type": "stream",
     "text": [
      "2021-09-23\n",
      "3\n"
     ]
    }
   ],
   "source": [
    "query_day()"
   ]
  },
  {
   "cell_type": "code",
   "execution_count": 11,
   "id": "ec501ebb",
   "metadata": {},
   "outputs": [],
   "source": [
    "#returns the time\n",
    "def query_time():\n",
    "    time = datetime.datetime.now().strftime('%I:%M:S')\n",
    "    print(time)\n",
    "    speaking(f\"{time[0:2]} o'clock and {time[3:5]} minutes\")\n",
    "    "
   ]
  },
  {
   "cell_type": "code",
   "execution_count": 12,
   "id": "ea0e307b",
   "metadata": {},
   "outputs": [
    {
     "name": "stdout",
     "output_type": "stream",
     "text": [
      "10:19:S\n"
     ]
    }
   ],
   "source": [
    "query_time()"
   ]
  },
  {
   "cell_type": "code",
   "execution_count": 13,
   "id": "394d6c16",
   "metadata": {},
   "outputs": [],
   "source": [
    "#Greetings\n",
    "def whatsup():\n",
    "    speaking(\"\"\"\n",
    "    Hi, my name is Lia. I am your personal assistant.\n",
    "    How may I help you?   \n",
    "    \"\"\")"
   ]
  },
  {
   "cell_type": "code",
   "execution_count": 14,
   "id": "ac22bd04",
   "metadata": {},
   "outputs": [],
   "source": [
    "whatsup()"
   ]
  },
  {
   "cell_type": "code",
   "execution_count": 18,
   "id": "df0ae3db",
   "metadata": {},
   "outputs": [],
   "source": [
    "#Testing Wikipedia\n",
    "import wikipedia"
   ]
  },
  {
   "cell_type": "code",
   "execution_count": 20,
   "id": "64b87e7b",
   "metadata": {},
   "outputs": [],
   "source": [
    "#the heart of our assistant. Takes queries and return answers\n",
    "def querying():\n",
    "    whatsup()\n",
    "    start = True\n",
    "    while(start):\n",
    "        q = transform().lower()\n",
    "        \n",
    "        if 'start youtube' in q:\n",
    "            speaking('Starting youtube for you. Just wait a second.')\n",
    "            webbrowser.open('https://www.youtube.com')\n",
    "            continue\n",
    "        elif 'browser' in q:\n",
    "            print('Starting webbrowser')\n",
    "            speaking('Opening browser')\n",
    "            webbrowser.open('https://www.google.com')\n",
    "            continue\n",
    "        elif 'what day is it' in q:\n",
    "            query_day()\n",
    "            continue\n",
    "        elif 'what time is it' in q:\n",
    "            query_time()\n",
    "            continue\n",
    "        elif 'shutdown' in q:\n",
    "            speaking('Ok. I am shutting down')\n",
    "            break\n",
    "        elif 'from wikipedia' in q:\n",
    "            speaking('Checking Wikipedia')\n",
    "            q = q.replace(\"wikipedia\", \"\")\n",
    "            result = wikipedia.summary(q, sentences = 2)\n",
    "            speaking('Found on wikipedia')\n",
    "            speaking(result)\n",
    "            continue\n",
    "        elif 'Your name' in q:\n",
    "            speaking ('I am Lia. Your VA')\n",
    "            continue\n",
    "        elif 'search web' in q:\n",
    "            pywhatkit.search(q)\n",
    "            speaking('that is what I found')\n",
    "            continue\n",
    "        elif 'play' in q:\n",
    "            speaking(f'playing {q}')\n",
    "            pywhatkit.playonyt(q)\n",
    "            continue\n",
    "        elif 'joke' in q:\n",
    "            speaking(pyjokes.get_joke())\n",
    "            continue\n",
    "        elif 'stock price' in q:\n",
    "            search = q.split('of')[-1].strip()\n",
    "            lookup = {'apple': 'AAPL',\n",
    "                     'amazon':'AMZN',\n",
    "                     'google':'GOOGL'}\n",
    "            try:\n",
    "                stock = lookup[search]\n",
    "                stock = yf.Ticker(stock)\n",
    "                currentprice = stock.info[\"regularMarketPrice\"]\n",
    "                speaking(f'Found it, the price for {search} is {currentprice}')\n",
    "            except:\n",
    "                speaking(f'Sorry. I have no data for {search}')\n",
    "                continue\n",
    "            "
   ]
  },
  {
   "cell_type": "code",
   "execution_count": null,
   "id": "57562fd0",
   "metadata": {},
   "outputs": [
    {
     "name": "stdout",
     "output_type": "stream",
     "text": [
      "I am listening\n",
      "2021-09-23\n",
      "3\n",
      "I am listening\n",
      "I am listening\n",
      "10:32:S\n",
      "I am listening\n",
      "I am listening\n",
      "I am listening\n",
      "Sorry. I did not understand\n",
      "I am listening\n",
      "I am listening\n",
      "Sorry. I did not understand\n",
      "I am listening\n",
      "I am listening\n",
      "I am listening\n",
      "Sorry. I did not understand\n",
      "I am listening\n",
      "I am listening\n",
      "I am listening\n",
      "I am listening\n",
      "I am listening\n",
      "Sorry. I did not understand\n",
      "I am listening\n",
      "I am listening\n",
      "I am listening\n",
      "Sorry. I did not understand\n",
      "I am listening\n",
      "Sorry. I did not understand\n"
     ]
    }
   ],
   "source": [
    "querying()"
   ]
  },
  {
   "cell_type": "code",
   "execution_count": 17,
   "id": "2d247a01",
   "metadata": {},
   "outputs": [],
   "source": []
  },
  {
   "cell_type": "code",
   "execution_count": null,
   "id": "bd89750d",
   "metadata": {},
   "outputs": [],
   "source": []
  }
 ],
 "metadata": {
  "kernelspec": {
   "display_name": "Python 3",
   "language": "python",
   "name": "python3"
  },
  "language_info": {
   "codemirror_mode": {
    "name": "ipython",
    "version": 3
   },
   "file_extension": ".py",
   "mimetype": "text/x-python",
   "name": "python",
   "nbconvert_exporter": "python",
   "pygments_lexer": "ipython3",
   "version": "3.7.10"
  }
 },
 "nbformat": 4,
 "nbformat_minor": 5
}
